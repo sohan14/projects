{
  "nbformat": 4,
  "nbformat_minor": 0,
  "metadata": {
    "colab": {
      "name": "PythonAssignment2.ipynb",
      "provenance": []
    },
    "kernelspec": {
      "name": "python3",
      "display_name": "Python 3"
    }
  },
  "cells": [
    {
      "cell_type": "code",
      "metadata": {
        "colab": {
          "base_uri": "https://localhost:8080/"
        },
        "id": "--WJbu8C3LaW",
        "outputId": "4f12b109-6b5a-4fac-8752-72ec54639fd1"
      },
      "source": [
        "for i in range(1,6):\n",
        "  a=['*']*i\n",
        "  print(' '.join(a))\n",
        "  if i==5:\n",
        "    for j in range(1,5):\n",
        "      b=5-j\n",
        "      a=['*']*b\n",
        "      print(' '.join(a))\n",
        "      \n",
        " \n"
      ],
      "execution_count": 9,
      "outputs": [
        {
          "output_type": "stream",
          "text": [
            "*\n",
            "* *\n",
            "* * *\n",
            "* * * *\n",
            "* * * * *\n",
            "* * * *\n",
            "* * *\n",
            "* *\n",
            "*\n"
          ],
          "name": "stdout"
        }
      ]
    },
    {
      "cell_type": "code",
      "metadata": {
        "colab": {
          "base_uri": "https://localhost:8080/"
        },
        "id": "CM5W21qf3uKK",
        "outputId": "ec6f8b0a-3edc-4bae-9b22-81d6e173006d"
      },
      "source": [
        "word=input('Please enter your word')\n",
        "print(word[::-1])"
      ],
      "execution_count": 10,
      "outputs": [
        {
          "output_type": "stream",
          "text": [
            "Please enter your wordinueron\n",
            "noreuni\n"
          ],
          "name": "stdout"
        }
      ]
    },
    {
      "cell_type": "code",
      "metadata": {
        "id": "J8bLvGOI3yNe"
      },
      "source": [
        ""
      ],
      "execution_count": null,
      "outputs": []
    }
  ]
}