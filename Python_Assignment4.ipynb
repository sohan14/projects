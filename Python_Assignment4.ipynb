{
  "nbformat": 4,
  "nbformat_minor": 0,
  "metadata": {
    "colab": {
      "name": "Python Assignment4.ipynb",
      "provenance": []
    },
    "kernelspec": {
      "name": "python3",
      "display_name": "Python 3"
    }
  },
  "cells": [
    {
      "cell_type": "code",
      "metadata": {
        "colab": {
          "base_uri": "https://localhost:8080/"
        },
        "id": "rgkESkeqB70P",
        "outputId": "150d673a-f42c-420f-e3f7-5f71ba8d5e1c"
      },
      "source": [
        "class Triangle_sides:\n",
        "\n",
        "  def __init__(self,a,b,c):\n",
        "    self.a=a\n",
        "    self.b=b\n",
        "    self.c=c\n",
        "\n",
        "\n",
        "class Triangle_area(Triangle_sides):\n",
        "\n",
        "  def __init__(self,a,b,c):\n",
        "    super().__init__(a,b,c)\n",
        "\n",
        "  def get_area(self):\n",
        "    s=(a+b+c)/2\n",
        "    area=(s*(s-a)*(s-b)*(s-c)) ** 0.5\n",
        "    return area\n",
        "\n",
        "a=int(input('a :'))\n",
        "b=int(input('b :'))\n",
        "c=int(input('c :'))\n",
        "\n",
        "area=Triangle_area(a,b,c)\n",
        "print(area.get_area())"
      ],
      "execution_count": 9,
      "outputs": [
        {
          "output_type": "stream",
          "text": [
            "a :4\n",
            "b :13\n",
            "c :15\n",
            "24.0\n"
          ],
          "name": "stdout"
        }
      ]
    },
    {
      "cell_type": "code",
      "metadata": {
        "colab": {
          "base_uri": "https://localhost:8080/"
        },
        "id": "N0CHvtDpLXk1",
        "outputId": "6c02de6a-0fae-4661-ebf9-a3420cea14a5"
      },
      "source": [
        "def filter_long_word(words,n):\n",
        "  \"\"\"\n",
        "  Takes list of word and returns word longer than x\n",
        "  \"\"\"\n",
        "  bag=[]\n",
        "\n",
        "  for a in words:\n",
        "    if len(a)>n:\n",
        "      bag.append(a)\n",
        "  return bag\n",
        "\n",
        "filter_long_word(['a','ab','abc'],1)\n"
      ],
      "execution_count": 12,
      "outputs": [
        {
          "output_type": "execute_result",
          "data": {
            "text/plain": [
              "['ab', 'abc']"
            ]
          },
          "metadata": {
            "tags": []
          },
          "execution_count": 12
        }
      ]
    },
    {
      "cell_type": "code",
      "metadata": {
        "colab": {
          "base_uri": "https://localhost:8080/"
        },
        "id": "dOYIq5gSNJa7",
        "outputId": "cc5a05ce-7d22-4717-f4f3-00a4449faa3b"
      },
      "source": [
        "print(list(map(lambda x: len(x), ['ab','cde','erty'])))"
      ],
      "execution_count": 16,
      "outputs": [
        {
          "output_type": "stream",
          "text": [
            "[2, 3, 4]\n"
          ],
          "name": "stdout"
        }
      ]
    },
    {
      "cell_type": "code",
      "metadata": {
        "colab": {
          "base_uri": "https://localhost:8080/"
        },
        "id": "7qsTQ3SFP_8Q",
        "outputId": "25d98abc-67fb-45ea-bb69-b7caff39453b"
      },
      "source": [
        "def vowel(a):\n",
        "  if a in 'aeiou':\n",
        "    return True\n",
        "  else:\n",
        "    return False\n",
        "print(list(filter(vowel,['a','b','e','c'])))"
      ],
      "execution_count": 26,
      "outputs": [
        {
          "output_type": "stream",
          "text": [
            "['a', 'e']\n"
          ],
          "name": "stdout"
        }
      ]
    },
    {
      "cell_type": "code",
      "metadata": {
        "id": "IfnzD1_JQ3ce"
      },
      "source": [
        ""
      ],
      "execution_count": 26,
      "outputs": []
    },
    {
      "cell_type": "code",
      "metadata": {
        "id": "8XZTxEvRRH0V"
      },
      "source": [
        ""
      ],
      "execution_count": null,
      "outputs": []
    }
  ]
}