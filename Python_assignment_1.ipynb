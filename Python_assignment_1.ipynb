{
  "nbformat": 4,
  "nbformat_minor": 0,
  "metadata": {
    "colab": {
      "name": "Python assignment 1",
      "provenance": []
    },
    "kernelspec": {
      "name": "python3",
      "display_name": "Python 3"
    }
  },
  "cells": [
    {
      "cell_type": "code",
      "metadata": {
        "colab": {
          "base_uri": "https://localhost:8080/"
        },
        "id": "nMCR3x38loDo",
        "outputId": "4c47808f-04bd-4d8d-d37e-50034a121a8b"
      },
      "source": [
        "a=2000\n",
        "b=3200\n",
        "c=[]\n",
        "#find number divisible by 7 but not multiple by 5 \n",
        "for num in range(a,b+1):\n",
        "  if (num%7)==0 and not(num%5==0):\n",
        "    \n",
        "    c.append(str(num))\n",
        "    c.append(',')\n",
        "    \n",
        "print(''.join(c))\n"
      ],
      "execution_count": 22,
      "outputs": [
        {
          "output_type": "stream",
          "text": [
            "2002,2009,2016,2023,2037,2044,2051,2058,2072,2079,2086,2093,2107,2114,2121,2128,2142,2149,2156,2163,2177,2184,2191,2198,2212,2219,2226,2233,2247,2254,2261,2268,2282,2289,2296,2303,2317,2324,2331,2338,2352,2359,2366,2373,2387,2394,2401,2408,2422,2429,2436,2443,2457,2464,2471,2478,2492,2499,2506,2513,2527,2534,2541,2548,2562,2569,2576,2583,2597,2604,2611,2618,2632,2639,2646,2653,2667,2674,2681,2688,2702,2709,2716,2723,2737,2744,2751,2758,2772,2779,2786,2793,2807,2814,2821,2828,2842,2849,2856,2863,2877,2884,2891,2898,2912,2919,2926,2933,2947,2954,2961,2968,2982,2989,2996,3003,3017,3024,3031,3038,3052,3059,3066,3073,3087,3094,3101,3108,3122,3129,3136,3143,3157,3164,3171,3178,3192,3199,\n"
          ],
          "name": "stdout"
        }
      ]
    },
    {
      "cell_type": "code",
      "metadata": {
        "colab": {
          "base_uri": "https://localhost:8080/"
        },
        "id": "3jVaIM_tsBQ-",
        "outputId": "ac7d152b-ccaf-4364-802a-e87baa916190"
      },
      "source": [
        "\n",
        "first_name = input('Please enter your  First Name: ')\n",
        "last_name = input('Please enter your Last Name: ')\n",
        "full_name= first_name +' '+ last_name\n",
        "print(full_name[::-1])\n",
        "\n"
      ],
      "execution_count": 33,
      "outputs": [
        {
          "output_type": "stream",
          "text": [
            "Please enter your  First Name: First\n",
            "Please enter your Last Name: name\n",
            "eman tsriF\n"
          ],
          "name": "stdout"
        }
      ]
    },
    {
      "cell_type": "code",
      "metadata": {
        "colab": {
          "base_uri": "https://localhost:8080/"
        },
        "id": "kDp6-rxiu_7M",
        "outputId": "ac7bf30b-40b0-4d3d-b442-99af2a16401d"
      },
      "source": [
        "from math import pi\n",
        "d=12\n",
        "print(\"Volume of spehere of diameter 12 is {}\".format((4/3)*pi*(d/2)**3))"
      ],
      "execution_count": 35,
      "outputs": [
        {
          "output_type": "stream",
          "text": [
            "Volume of spehere of diameter 12 is 904.7786842338603\n"
          ],
          "name": "stdout"
        }
      ]
    },
    {
      "cell_type": "code",
      "metadata": {
        "id": "Y4T4Sn9iysa6"
      },
      "source": [
        ""
      ],
      "execution_count": null,
      "outputs": []
    }
  ]
}