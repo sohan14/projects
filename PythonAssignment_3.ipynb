{
  "nbformat": 4,
  "nbformat_minor": 0,
  "metadata": {
    "colab": {
      "name": "PythonAssignment 3.ipynb",
      "provenance": []
    },
    "kernelspec": {
      "name": "python3",
      "display_name": "Python 3"
    }
  },
  "cells": [
    {
      "cell_type": "code",
      "metadata": {
        "colab": {
          "base_uri": "https://localhost:8080/"
        },
        "id": "ZbCpIiniNCix",
        "outputId": "2eb9f11c-cd0c-4356-d75c-94938eaf4adb"
      },
      "source": [
        "# Create myreduce function similar to python built in reduce \n",
        "def myreduce(func,list_1):\n",
        "  a=list_1[0]\n",
        "  for i in range(1,len(list_1)):\n",
        "    b=list_1[i]\n",
        "    a=func(a,b)\n",
        "  return a\n",
        "\n",
        "def add(a,b):\n",
        "    return a+b\n",
        "\n",
        "list_1=[1,2,3,4,5]\n",
        "\n",
        "\n",
        "print(myreduce(add,list_1))"
      ],
      "execution_count": null,
      "outputs": [
        {
          "output_type": "stream",
          "text": [
            "15\n"
          ],
          "name": "stdout"
        }
      ]
    },
    {
      "cell_type": "code",
      "metadata": {
        "colab": {
          "base_uri": "https://localhost:8080/"
        },
        "id": "4MrlPpNXNiUY",
        "outputId": "95b5a416-e3d4-4466-fc79-aa62af0d40b9"
      },
      "source": [
        "#create myfilter function similar to buit in filter function\n",
        "def myfilter(func,list):\n",
        "  filtered_list=[]\n",
        "  for n in list:\n",
        "    a=func(n)\n",
        "    if a:\n",
        "      filtered_list.append(n)\n",
        "  return filtered_list\n",
        "\n",
        "def fun(variable): \n",
        "    letters = ['a', 'e', 'i', 'o', 'u'] \n",
        "    if (variable in letters): \n",
        "        return True\n",
        "    else: \n",
        "        return False\n",
        "  \n",
        "  \n",
        "# sequence \n",
        "sequence = ['g', 'e', 'e', 'j', 'k', 's', 'p', 'r'] \n",
        "  \n",
        "# using filter function \n",
        "filtered = myfilter(fun, sequence)\n",
        "\n",
        "print(filtered)\n",
        "  "
      ],
      "execution_count": null,
      "outputs": [
        {
          "output_type": "stream",
          "text": [
            "['e', 'e']\n"
          ],
          "name": "stdout"
        }
      ]
    },
    {
      "cell_type": "code",
      "metadata": {
        "colab": {
          "base_uri": "https://localhost:8080/"
        },
        "id": "T_cwZgzWP4Zc",
        "outputId": "59b63bbc-4e72-4dd8-bba6-fb3b4013432b"
      },
      "source": [
        "print([x*a for x in ['x','y','z'] for a in range(1,4)])"
      ],
      "execution_count": 23,
      "outputs": [
        {
          "output_type": "stream",
          "text": [
            "['x', 'xx', 'xxx', 'y', 'yy', 'yyy', 'z', 'zz', 'zzz']\n"
          ],
          "name": "stdout"
        }
      ]
    },
    {
      "cell_type": "code",
      "metadata": {
        "colab": {
          "base_uri": "https://localhost:8080/"
        },
        "id": "hGstSqlIQ_xF",
        "outputId": "abeb51ea-9ab5-4db2-e38d-f4356959e0d9"
      },
      "source": [
        "print([x*a for x in range(1,4) for a in ['x','y','z'] ])"
      ],
      "execution_count": 24,
      "outputs": [
        {
          "output_type": "stream",
          "text": [
            "['x', 'y', 'z', 'xx', 'yy', 'zz', 'xxx', 'yyy', 'zzz']\n"
          ],
          "name": "stdout"
        }
      ]
    },
    {
      "cell_type": "code",
      "metadata": {
        "id": "WClmjeBCRIzU",
        "colab": {
          "base_uri": "https://localhost:8080/"
        },
        "outputId": "6d0e11b6-f3f0-4726-e73a-f755d528c399"
      },
      "source": [
        "\n",
        "print([[x+a] for x in [2,3,4] for a in range(0,3)])"
      ],
      "execution_count": 25,
      "outputs": [
        {
          "output_type": "stream",
          "text": [
            "[[2], [3], [4], [3], [4], [5], [4], [5], [6]]\n"
          ],
          "name": "stdout"
        }
      ]
    },
    {
      "cell_type": "code",
      "metadata": {
        "colab": {
          "base_uri": "https://localhost:8080/"
        },
        "id": "BaKrICrc7kZT",
        "outputId": "b6466b0d-50be-458e-87bc-999c06ce1bbb"
      },
      "source": [
        "print([[x+a for x in [2,3,4,5]] for a in range(0,4) ])"
      ],
      "execution_count": 26,
      "outputs": [
        {
          "output_type": "stream",
          "text": [
            "[[2, 3, 4, 5], [3, 4, 5, 6], [4, 5, 6, 7], [5, 6, 7, 8]]\n"
          ],
          "name": "stdout"
        }
      ]
    },
    {
      "cell_type": "code",
      "metadata": {
        "colab": {
          "base_uri": "https://localhost:8080/"
        },
        "id": "XFteaCgR9jUE",
        "outputId": "785b56f4-5d11-49ae-8ea6-8c53fc304c83"
      },
      "source": [
        "print([(x,a) for x in [1,2,3] for a in range(1,4)])"
      ],
      "execution_count": 27,
      "outputs": [
        {
          "output_type": "stream",
          "text": [
            "[(1, 1), (1, 2), (1, 3), (2, 1), (2, 2), (2, 3), (3, 1), (3, 2), (3, 3)]\n"
          ],
          "name": "stdout"
        }
      ]
    },
    {
      "cell_type": "code",
      "metadata": {
        "id": "xBbp9YX6-qC-"
      },
      "source": [
        ""
      ],
      "execution_count": null,
      "outputs": []
    }
  ]
}